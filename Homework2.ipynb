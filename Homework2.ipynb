{
  "cells": [
    {
      "cell_type": "markdown",
      "metadata": {
        "id": "view-in-github",
        "colab_type": "text"
      },
      "source": [
        "<a href=\"https://colab.research.google.com/github/bit-human/homework1/blob/main/Homework2.ipynb\" target=\"_parent\"><img src=\"https://colab.research.google.com/assets/colab-badge.svg\" alt=\"Open In Colab\"/></a>"
      ]
    },
    {
      "cell_type": "markdown",
      "id": "d86eca04",
      "metadata": {
        "id": "d86eca04"
      },
      "source": [
        "# Homework 2: Pandas\n",
        "\n",
        "Today we'll practice data exploration in pandas! Each of these cells should consist of a single line of pandas, answering the question.\n",
        "\n",
        "First, you'll need to download the dataset \"Top American Colleges 2022\" from Kaggle.com and get it into this directory. You'll need to make an account first.\n",
        "\n",
        "Below is a list of useful functions. Part of this homework is practicing reading the documentation, so you'll want to look them up as you go. I'd recommend starting with this: https://pandas.pydata.org/docs/user_guide/10min.html. Once you've read that, in general you can find the API for any of these functions by searching their name plus pandas.\n",
        "\n",
        "List of helpful functions:\n",
        "\n",
        "* read_csv\n",
        "* head\n",
        "* unique\n",
        "* groupby\n",
        "* apply (An important note about this one--pay careful attention to the weird axis argument. When you apply over a series, you often don't need it, but when you apply over a dataframe axis=1 and axis=0 will do very different things.)\n",
        "* value_counts\n",
        "* df.columns ('columns' is a dataframe variable that tracks the columns)\n",
        "* isin\n",
        "* fillna\n",
        "* astype\n",
        "* hist"
      ]
    },
    {
      "cell_type": "markdown",
      "id": "b5c99f57",
      "metadata": {
        "id": "b5c99f57"
      },
      "source": [
        "## The Basics\n",
        "\n",
        "First, read the dataframe in. Store it in a variable called \"df\"."
      ]
    },
    {
      "cell_type": "code",
      "execution_count": 49,
      "id": "1ae215ce",
      "metadata": {
        "id": "1ae215ce"
      },
      "outputs": [],
      "source": [
        "df = pd.read_csv(\"top_colleges_2022.csv\")"
      ]
    },
    {
      "cell_type": "markdown",
      "id": "42764159",
      "metadata": {
        "id": "42764159"
      },
      "source": [
        "Let's get a feel for our dataframe. Print out a list of columns"
      ]
    },
    {
      "cell_type": "code",
      "execution_count": 21,
      "id": "454d1bc7",
      "metadata": {
        "id": "454d1bc7",
        "outputId": "f9cf0009-541d-4376-d6ca-051c9dcdaf5e",
        "colab": {
          "base_uri": "https://localhost:8080/"
        }
      },
      "outputs": [
        {
          "output_type": "stream",
          "name": "stdout",
          "text": [
            "['description', 'rank', 'organizationName', 'state', 'studentPopulation', 'campusSetting', 'medianBaseSalary', 'longitude', 'latitude', 'website', 'phoneNumber', 'city', 'country', 'state.1', 'region', 'yearFounded', 'stateCode', 'collegeType', 'carnegieClassification', 'studentFacultyRatio', 'totalStudentPop', 'undergradPop', 'totalGrantAid', 'percentOfStudentsFinAid', 'percentOfStudentsGrant']\n"
          ]
        }
      ],
      "source": [
        "print(df.columns.tolist())"
      ]
    },
    {
      "cell_type": "markdown",
      "id": "a41eb31f",
      "metadata": {
        "id": "a41eb31f"
      },
      "source": [
        "Now print out the first ten elements. There's a single function that does it by default."
      ]
    },
    {
      "cell_type": "code",
      "execution_count": 22,
      "id": "98b5cc9f",
      "metadata": {
        "id": "98b5cc9f",
        "outputId": "a8c0a791-340b-48fa-b507-0ed39f81c185",
        "colab": {
          "base_uri": "https://localhost:8080/",
          "height": 1000
        }
      },
      "outputs": [
        {
          "output_type": "execute_result",
          "data": {
            "text/plain": [
              "                                         description  rank  \\\n",
              "0  A leading global research university, MIT attr...     1   \n",
              "1  Stanford University sits just outside of Palo ...     2   \n",
              "2  One of the top public universities in the coun...     2   \n",
              "3  Princeton is a leading private research univer...     4   \n",
              "4  Located in upper Manhattan, Columbia Universit...     5   \n",
              "5  The University of California, Los Angeles is t...     6   \n",
              "6  Located in rural Williamstown, MA, Williams Co...     7   \n",
              "7  Yale University is the second oldest Ivy Leagu...     8   \n",
              "8  Duke offers 53 undergraduate majors at its Dur...     9   \n",
              "9  Founded by Benjamin Franklin, The University o...    10   \n",
              "\n",
              "                        organizationName state  studentPopulation  \\\n",
              "0  Massachusetts Institute of Technology    MA              12195   \n",
              "1                    Stanford University    CA              20961   \n",
              "2     University of California, Berkeley    CA              45878   \n",
              "3                   Princeton University    NJ               8532   \n",
              "4                    Columbia University    NY              33882   \n",
              "5  University of California, Los Angeles    CA              46947   \n",
              "6                       Williams College    MA               2307   \n",
              "7                        Yale University    CT              14910   \n",
              "8                        Duke University    NC              17855   \n",
              "9             University of Pennsylvania    PA              30688   \n",
              "\n",
              "  campusSetting  medianBaseSalary   longitude   latitude  \\\n",
              "0         Urban          173700.0  -71.093539  42.359006   \n",
              "1      Suburban          173500.0 -122.168924  37.431370   \n",
              "2         Urban          154500.0 -122.258393  37.869236   \n",
              "3         Urban          167600.0  -74.659119  40.349855   \n",
              "4         Urban          148800.0  -73.961288  40.806515   \n",
              "5         Urban          137200.0 -118.437855  34.073903   \n",
              "6         Rural          152600.0  -73.208078  42.712389   \n",
              "7         Urban          163700.0  -72.923425  41.314042   \n",
              "8         Urban          155000.0  -78.940277  36.001389   \n",
              "9         Urban          164000.0  -75.162369  39.952270   \n",
              "\n",
              "                    website  ... yearFounded stateCode  \\\n",
              "0        http://web.mit.edu  ...      1861.0        MA   \n",
              "1   http://www.stanford.edu  ...      1891.0        CA   \n",
              "2   http://www.berkeley.edu  ...      1868.0        CA   \n",
              "3  http://www.princeton.edu  ...      1746.0        NJ   \n",
              "4   http://www.columbia.edu  ...      1754.0        NY   \n",
              "5           http://ucla.edu  ...      1919.0        CA   \n",
              "6   http://www.williams.edu  ...      1793.0        MA   \n",
              "7       http://www.yale.edu  ...      1701.0        CT   \n",
              "8       http://www.duke.edu  ...      1924.0        NC   \n",
              "9      http://www.upenn.edu  ...      1740.0        PA   \n",
              "\n",
              "              collegeType                             carnegieClassification  \\\n",
              "0  Private not-for-profit  Doctoral Universities: Very High Research Acti...   \n",
              "1  Private not-for-profit  Doctoral Universities: Very High Research Acti...   \n",
              "2                  Public  Doctoral Universities: Very High Research Acti...   \n",
              "3  Private not-for-profit  Doctoral Universities: Very High Research Acti...   \n",
              "4  Private not-for-profit  Doctoral Universities: Very High Research Acti...   \n",
              "5                  Public  Doctoral Universities: Very High Research Acti...   \n",
              "6  Private not-for-profit      Baccalaureate Colleges: Arts & Sciences Focus   \n",
              "7  Private not-for-profit  Doctoral Universities: Very High Research Acti...   \n",
              "8  Private not-for-profit  Doctoral Universities: Very High Research Acti...   \n",
              "9  Private not-for-profit  Doctoral Universities: Very High Research Acti...   \n",
              "\n",
              "  studentFacultyRatio  totalStudentPop undergradPop totalGrantAid  \\\n",
              "0                   3            12195         4582    35299332.0   \n",
              "1                   4            20961         8464    51328461.0   \n",
              "2                  19            45878        33208    64495611.0   \n",
              "3                   4             8532         5516    44871096.0   \n",
              "4                   6            33882         8689    44615007.0   \n",
              "5                  18            46947        33641    61100980.0   \n",
              "6                   6             2307         2251    15204855.0   \n",
              "7                   4            14910         7199    48430359.0   \n",
              "8                   6            17855         7278    41087604.0   \n",
              "9                   6            30688        14202    59744979.0   \n",
              "\n",
              "  percentOfStudentsFinAid  percentOfStudentsGrant  \n",
              "0                    75.0                    60.0  \n",
              "1                    70.0                    55.0  \n",
              "2                    63.0                    53.0  \n",
              "3                    62.0                    61.0  \n",
              "4                    58.0                    54.0  \n",
              "5                    73.0                    67.0  \n",
              "6                    62.0                    52.0  \n",
              "7                    61.0                    53.0  \n",
              "8                    63.0                    47.0  \n",
              "9                    57.0                    47.0  \n",
              "\n",
              "[10 rows x 25 columns]"
            ],
            "text/html": [
              "\n",
              "  <div id=\"df-6c1bb356-8b2d-42b9-beb2-90a8b49c8b30\">\n",
              "    <div class=\"colab-df-container\">\n",
              "      <div>\n",
              "<style scoped>\n",
              "    .dataframe tbody tr th:only-of-type {\n",
              "        vertical-align: middle;\n",
              "    }\n",
              "\n",
              "    .dataframe tbody tr th {\n",
              "        vertical-align: top;\n",
              "    }\n",
              "\n",
              "    .dataframe thead th {\n",
              "        text-align: right;\n",
              "    }\n",
              "</style>\n",
              "<table border=\"1\" class=\"dataframe\">\n",
              "  <thead>\n",
              "    <tr style=\"text-align: right;\">\n",
              "      <th></th>\n",
              "      <th>description</th>\n",
              "      <th>rank</th>\n",
              "      <th>organizationName</th>\n",
              "      <th>state</th>\n",
              "      <th>studentPopulation</th>\n",
              "      <th>campusSetting</th>\n",
              "      <th>medianBaseSalary</th>\n",
              "      <th>longitude</th>\n",
              "      <th>latitude</th>\n",
              "      <th>website</th>\n",
              "      <th>...</th>\n",
              "      <th>yearFounded</th>\n",
              "      <th>stateCode</th>\n",
              "      <th>collegeType</th>\n",
              "      <th>carnegieClassification</th>\n",
              "      <th>studentFacultyRatio</th>\n",
              "      <th>totalStudentPop</th>\n",
              "      <th>undergradPop</th>\n",
              "      <th>totalGrantAid</th>\n",
              "      <th>percentOfStudentsFinAid</th>\n",
              "      <th>percentOfStudentsGrant</th>\n",
              "    </tr>\n",
              "  </thead>\n",
              "  <tbody>\n",
              "    <tr>\n",
              "      <th>0</th>\n",
              "      <td>A leading global research university, MIT attr...</td>\n",
              "      <td>1</td>\n",
              "      <td>Massachusetts Institute of Technology</td>\n",
              "      <td>MA</td>\n",
              "      <td>12195</td>\n",
              "      <td>Urban</td>\n",
              "      <td>173700.0</td>\n",
              "      <td>-71.093539</td>\n",
              "      <td>42.359006</td>\n",
              "      <td>http://web.mit.edu</td>\n",
              "      <td>...</td>\n",
              "      <td>1861.0</td>\n",
              "      <td>MA</td>\n",
              "      <td>Private not-for-profit</td>\n",
              "      <td>Doctoral Universities: Very High Research Acti...</td>\n",
              "      <td>3</td>\n",
              "      <td>12195</td>\n",
              "      <td>4582</td>\n",
              "      <td>35299332.0</td>\n",
              "      <td>75.0</td>\n",
              "      <td>60.0</td>\n",
              "    </tr>\n",
              "    <tr>\n",
              "      <th>1</th>\n",
              "      <td>Stanford University sits just outside of Palo ...</td>\n",
              "      <td>2</td>\n",
              "      <td>Stanford University</td>\n",
              "      <td>CA</td>\n",
              "      <td>20961</td>\n",
              "      <td>Suburban</td>\n",
              "      <td>173500.0</td>\n",
              "      <td>-122.168924</td>\n",
              "      <td>37.431370</td>\n",
              "      <td>http://www.stanford.edu</td>\n",
              "      <td>...</td>\n",
              "      <td>1891.0</td>\n",
              "      <td>CA</td>\n",
              "      <td>Private not-for-profit</td>\n",
              "      <td>Doctoral Universities: Very High Research Acti...</td>\n",
              "      <td>4</td>\n",
              "      <td>20961</td>\n",
              "      <td>8464</td>\n",
              "      <td>51328461.0</td>\n",
              "      <td>70.0</td>\n",
              "      <td>55.0</td>\n",
              "    </tr>\n",
              "    <tr>\n",
              "      <th>2</th>\n",
              "      <td>One of the top public universities in the coun...</td>\n",
              "      <td>2</td>\n",
              "      <td>University of California, Berkeley</td>\n",
              "      <td>CA</td>\n",
              "      <td>45878</td>\n",
              "      <td>Urban</td>\n",
              "      <td>154500.0</td>\n",
              "      <td>-122.258393</td>\n",
              "      <td>37.869236</td>\n",
              "      <td>http://www.berkeley.edu</td>\n",
              "      <td>...</td>\n",
              "      <td>1868.0</td>\n",
              "      <td>CA</td>\n",
              "      <td>Public</td>\n",
              "      <td>Doctoral Universities: Very High Research Acti...</td>\n",
              "      <td>19</td>\n",
              "      <td>45878</td>\n",
              "      <td>33208</td>\n",
              "      <td>64495611.0</td>\n",
              "      <td>63.0</td>\n",
              "      <td>53.0</td>\n",
              "    </tr>\n",
              "    <tr>\n",
              "      <th>3</th>\n",
              "      <td>Princeton is a leading private research univer...</td>\n",
              "      <td>4</td>\n",
              "      <td>Princeton University</td>\n",
              "      <td>NJ</td>\n",
              "      <td>8532</td>\n",
              "      <td>Urban</td>\n",
              "      <td>167600.0</td>\n",
              "      <td>-74.659119</td>\n",
              "      <td>40.349855</td>\n",
              "      <td>http://www.princeton.edu</td>\n",
              "      <td>...</td>\n",
              "      <td>1746.0</td>\n",
              "      <td>NJ</td>\n",
              "      <td>Private not-for-profit</td>\n",
              "      <td>Doctoral Universities: Very High Research Acti...</td>\n",
              "      <td>4</td>\n",
              "      <td>8532</td>\n",
              "      <td>5516</td>\n",
              "      <td>44871096.0</td>\n",
              "      <td>62.0</td>\n",
              "      <td>61.0</td>\n",
              "    </tr>\n",
              "    <tr>\n",
              "      <th>4</th>\n",
              "      <td>Located in upper Manhattan, Columbia Universit...</td>\n",
              "      <td>5</td>\n",
              "      <td>Columbia University</td>\n",
              "      <td>NY</td>\n",
              "      <td>33882</td>\n",
              "      <td>Urban</td>\n",
              "      <td>148800.0</td>\n",
              "      <td>-73.961288</td>\n",
              "      <td>40.806515</td>\n",
              "      <td>http://www.columbia.edu</td>\n",
              "      <td>...</td>\n",
              "      <td>1754.0</td>\n",
              "      <td>NY</td>\n",
              "      <td>Private not-for-profit</td>\n",
              "      <td>Doctoral Universities: Very High Research Acti...</td>\n",
              "      <td>6</td>\n",
              "      <td>33882</td>\n",
              "      <td>8689</td>\n",
              "      <td>44615007.0</td>\n",
              "      <td>58.0</td>\n",
              "      <td>54.0</td>\n",
              "    </tr>\n",
              "    <tr>\n",
              "      <th>5</th>\n",
              "      <td>The University of California, Los Angeles is t...</td>\n",
              "      <td>6</td>\n",
              "      <td>University of California, Los Angeles</td>\n",
              "      <td>CA</td>\n",
              "      <td>46947</td>\n",
              "      <td>Urban</td>\n",
              "      <td>137200.0</td>\n",
              "      <td>-118.437855</td>\n",
              "      <td>34.073903</td>\n",
              "      <td>http://ucla.edu</td>\n",
              "      <td>...</td>\n",
              "      <td>1919.0</td>\n",
              "      <td>CA</td>\n",
              "      <td>Public</td>\n",
              "      <td>Doctoral Universities: Very High Research Acti...</td>\n",
              "      <td>18</td>\n",
              "      <td>46947</td>\n",
              "      <td>33641</td>\n",
              "      <td>61100980.0</td>\n",
              "      <td>73.0</td>\n",
              "      <td>67.0</td>\n",
              "    </tr>\n",
              "    <tr>\n",
              "      <th>6</th>\n",
              "      <td>Located in rural Williamstown, MA, Williams Co...</td>\n",
              "      <td>7</td>\n",
              "      <td>Williams College</td>\n",
              "      <td>MA</td>\n",
              "      <td>2307</td>\n",
              "      <td>Rural</td>\n",
              "      <td>152600.0</td>\n",
              "      <td>-73.208078</td>\n",
              "      <td>42.712389</td>\n",
              "      <td>http://www.williams.edu</td>\n",
              "      <td>...</td>\n",
              "      <td>1793.0</td>\n",
              "      <td>MA</td>\n",
              "      <td>Private not-for-profit</td>\n",
              "      <td>Baccalaureate Colleges: Arts &amp; Sciences Focus</td>\n",
              "      <td>6</td>\n",
              "      <td>2307</td>\n",
              "      <td>2251</td>\n",
              "      <td>15204855.0</td>\n",
              "      <td>62.0</td>\n",
              "      <td>52.0</td>\n",
              "    </tr>\n",
              "    <tr>\n",
              "      <th>7</th>\n",
              "      <td>Yale University is the second oldest Ivy Leagu...</td>\n",
              "      <td>8</td>\n",
              "      <td>Yale University</td>\n",
              "      <td>CT</td>\n",
              "      <td>14910</td>\n",
              "      <td>Urban</td>\n",
              "      <td>163700.0</td>\n",
              "      <td>-72.923425</td>\n",
              "      <td>41.314042</td>\n",
              "      <td>http://www.yale.edu</td>\n",
              "      <td>...</td>\n",
              "      <td>1701.0</td>\n",
              "      <td>CT</td>\n",
              "      <td>Private not-for-profit</td>\n",
              "      <td>Doctoral Universities: Very High Research Acti...</td>\n",
              "      <td>4</td>\n",
              "      <td>14910</td>\n",
              "      <td>7199</td>\n",
              "      <td>48430359.0</td>\n",
              "      <td>61.0</td>\n",
              "      <td>53.0</td>\n",
              "    </tr>\n",
              "    <tr>\n",
              "      <th>8</th>\n",
              "      <td>Duke offers 53 undergraduate majors at its Dur...</td>\n",
              "      <td>9</td>\n",
              "      <td>Duke University</td>\n",
              "      <td>NC</td>\n",
              "      <td>17855</td>\n",
              "      <td>Urban</td>\n",
              "      <td>155000.0</td>\n",
              "      <td>-78.940277</td>\n",
              "      <td>36.001389</td>\n",
              "      <td>http://www.duke.edu</td>\n",
              "      <td>...</td>\n",
              "      <td>1924.0</td>\n",
              "      <td>NC</td>\n",
              "      <td>Private not-for-profit</td>\n",
              "      <td>Doctoral Universities: Very High Research Acti...</td>\n",
              "      <td>6</td>\n",
              "      <td>17855</td>\n",
              "      <td>7278</td>\n",
              "      <td>41087604.0</td>\n",
              "      <td>63.0</td>\n",
              "      <td>47.0</td>\n",
              "    </tr>\n",
              "    <tr>\n",
              "      <th>9</th>\n",
              "      <td>Founded by Benjamin Franklin, The University o...</td>\n",
              "      <td>10</td>\n",
              "      <td>University of Pennsylvania</td>\n",
              "      <td>PA</td>\n",
              "      <td>30688</td>\n",
              "      <td>Urban</td>\n",
              "      <td>164000.0</td>\n",
              "      <td>-75.162369</td>\n",
              "      <td>39.952270</td>\n",
              "      <td>http://www.upenn.edu</td>\n",
              "      <td>...</td>\n",
              "      <td>1740.0</td>\n",
              "      <td>PA</td>\n",
              "      <td>Private not-for-profit</td>\n",
              "      <td>Doctoral Universities: Very High Research Acti...</td>\n",
              "      <td>6</td>\n",
              "      <td>30688</td>\n",
              "      <td>14202</td>\n",
              "      <td>59744979.0</td>\n",
              "      <td>57.0</td>\n",
              "      <td>47.0</td>\n",
              "    </tr>\n",
              "  </tbody>\n",
              "</table>\n",
              "<p>10 rows × 25 columns</p>\n",
              "</div>\n",
              "      <button class=\"colab-df-convert\" onclick=\"convertToInteractive('df-6c1bb356-8b2d-42b9-beb2-90a8b49c8b30')\"\n",
              "              title=\"Convert this dataframe to an interactive table.\"\n",
              "              style=\"display:none;\">\n",
              "        \n",
              "  <svg xmlns=\"http://www.w3.org/2000/svg\" height=\"24px\"viewBox=\"0 0 24 24\"\n",
              "       width=\"24px\">\n",
              "    <path d=\"M0 0h24v24H0V0z\" fill=\"none\"/>\n",
              "    <path d=\"M18.56 5.44l.94 2.06.94-2.06 2.06-.94-2.06-.94-.94-2.06-.94 2.06-2.06.94zm-11 1L8.5 8.5l.94-2.06 2.06-.94-2.06-.94L8.5 2.5l-.94 2.06-2.06.94zm10 10l.94 2.06.94-2.06 2.06-.94-2.06-.94-.94-2.06-.94 2.06-2.06.94z\"/><path d=\"M17.41 7.96l-1.37-1.37c-.4-.4-.92-.59-1.43-.59-.52 0-1.04.2-1.43.59L10.3 9.45l-7.72 7.72c-.78.78-.78 2.05 0 2.83L4 21.41c.39.39.9.59 1.41.59.51 0 1.02-.2 1.41-.59l7.78-7.78 2.81-2.81c.8-.78.8-2.07 0-2.86zM5.41 20L4 18.59l7.72-7.72 1.47 1.35L5.41 20z\"/>\n",
              "  </svg>\n",
              "      </button>\n",
              "      \n",
              "  <style>\n",
              "    .colab-df-container {\n",
              "      display:flex;\n",
              "      flex-wrap:wrap;\n",
              "      gap: 12px;\n",
              "    }\n",
              "\n",
              "    .colab-df-convert {\n",
              "      background-color: #E8F0FE;\n",
              "      border: none;\n",
              "      border-radius: 50%;\n",
              "      cursor: pointer;\n",
              "      display: none;\n",
              "      fill: #1967D2;\n",
              "      height: 32px;\n",
              "      padding: 0 0 0 0;\n",
              "      width: 32px;\n",
              "    }\n",
              "\n",
              "    .colab-df-convert:hover {\n",
              "      background-color: #E2EBFA;\n",
              "      box-shadow: 0px 1px 2px rgba(60, 64, 67, 0.3), 0px 1px 3px 1px rgba(60, 64, 67, 0.15);\n",
              "      fill: #174EA6;\n",
              "    }\n",
              "\n",
              "    [theme=dark] .colab-df-convert {\n",
              "      background-color: #3B4455;\n",
              "      fill: #D2E3FC;\n",
              "    }\n",
              "\n",
              "    [theme=dark] .colab-df-convert:hover {\n",
              "      background-color: #434B5C;\n",
              "      box-shadow: 0px 1px 3px 1px rgba(0, 0, 0, 0.15);\n",
              "      filter: drop-shadow(0px 1px 2px rgba(0, 0, 0, 0.3));\n",
              "      fill: #FFFFFF;\n",
              "    }\n",
              "  </style>\n",
              "\n",
              "      <script>\n",
              "        const buttonEl =\n",
              "          document.querySelector('#df-6c1bb356-8b2d-42b9-beb2-90a8b49c8b30 button.colab-df-convert');\n",
              "        buttonEl.style.display =\n",
              "          google.colab.kernel.accessAllowed ? 'block' : 'none';\n",
              "\n",
              "        async function convertToInteractive(key) {\n",
              "          const element = document.querySelector('#df-6c1bb356-8b2d-42b9-beb2-90a8b49c8b30');\n",
              "          const dataTable =\n",
              "            await google.colab.kernel.invokeFunction('convertToInteractive',\n",
              "                                                     [key], {});\n",
              "          if (!dataTable) return;\n",
              "\n",
              "          const docLinkHtml = 'Like what you see? Visit the ' +\n",
              "            '<a target=\"_blank\" href=https://colab.research.google.com/notebooks/data_table.ipynb>data table notebook</a>'\n",
              "            + ' to learn more about interactive tables.';\n",
              "          element.innerHTML = '';\n",
              "          dataTable['output_type'] = 'display_data';\n",
              "          await google.colab.output.renderOutput(dataTable, element);\n",
              "          const docLink = document.createElement('div');\n",
              "          docLink.innerHTML = docLinkHtml;\n",
              "          element.appendChild(docLink);\n",
              "        }\n",
              "      </script>\n",
              "    </div>\n",
              "  </div>\n",
              "  "
            ]
          },
          "metadata": {},
          "execution_count": 22
        }
      ],
      "source": [
        "df.head(10)"
      ]
    },
    {
      "cell_type": "markdown",
      "id": "b0a6e669",
      "metadata": {
        "id": "b0a6e669"
      },
      "source": [
        "## Exploration\n",
        "\n",
        "Now let's learn to do some exploration. Try printing out the median \"medianBaseSalary\"\n"
      ]
    },
    {
      "cell_type": "code",
      "execution_count": 23,
      "id": "2cf7ad00",
      "metadata": {
        "id": "2cf7ad00",
        "outputId": "abcbdf5d-f999-4be5-af63-0b989f1891cb",
        "colab": {
          "base_uri": "https://localhost:8080/"
        }
      },
      "outputs": [
        {
          "output_type": "execute_result",
          "data": {
            "text/plain": [
              "0      173700.0\n",
              "1      173500.0\n",
              "2      154500.0\n",
              "3      167600.0\n",
              "4      148800.0\n",
              "         ...   \n",
              "493    100900.0\n",
              "494    109800.0\n",
              "495    119900.0\n",
              "496    102100.0\n",
              "497     90700.0\n",
              "Name: medianBaseSalary, Length: 498, dtype: float64"
            ]
          },
          "metadata": {},
          "execution_count": 23
        }
      ],
      "source": [
        "df[\"medianBaseSalary\"]"
      ]
    },
    {
      "cell_type": "markdown",
      "id": "a866be32",
      "metadata": {
        "id": "a866be32"
      },
      "source": [
        "Making it a little more complicated--print out the median \"medianBaseSalary\" only for urban colleges."
      ]
    },
    {
      "cell_type": "code",
      "execution_count": 24,
      "id": "405f0d9b",
      "metadata": {
        "id": "405f0d9b",
        "outputId": "09be78dc-6b55-4215-f4ad-266dbac21c28",
        "colab": {
          "base_uri": "https://localhost:8080/"
        }
      },
      "outputs": [
        {
          "output_type": "execute_result",
          "data": {
            "text/plain": [
              "0      173700.0\n",
              "2      154500.0\n",
              "3      167600.0\n",
              "4      148800.0\n",
              "5      137200.0\n",
              "         ...   \n",
              "493    100900.0\n",
              "494    109800.0\n",
              "495    119900.0\n",
              "496    102100.0\n",
              "497     90700.0\n",
              "Name: medianBaseSalary, Length: 292, dtype: float64"
            ]
          },
          "metadata": {},
          "execution_count": 24
        }
      ],
      "source": [
        "df[df[\"campusSetting\"] == \"Urban\"][\"medianBaseSalary\"]"
      ]
    },
    {
      "cell_type": "markdown",
      "id": "4499304e",
      "metadata": {
        "id": "4499304e"
      },
      "source": [
        "Now, still using one statement, let's print out median \"medianBaseSalary\" for all different possible values of \"campusSetting\". You'll need a statement we haven't used yet."
      ]
    },
    {
      "cell_type": "code",
      "execution_count": 28,
      "id": "3548ea91",
      "metadata": {
        "id": "3548ea91",
        "outputId": "8124c216-7a3a-4109-f725-e0923ad9bb69",
        "colab": {
          "base_uri": "https://localhost:8080/",
          "height": 423
        }
      },
      "outputs": [
        {
          "output_type": "execute_result",
          "data": {
            "text/plain": [
              "    campusSetting  medianBaseSalary\n",
              "0           Urban          173700.0\n",
              "1        Suburban          173500.0\n",
              "2           Urban          154500.0\n",
              "3           Urban          167600.0\n",
              "4           Urban          148800.0\n",
              "..            ...               ...\n",
              "493         Urban          100900.0\n",
              "494         Urban          109800.0\n",
              "495         Urban          119900.0\n",
              "496         Urban          102100.0\n",
              "497         Urban           90700.0\n",
              "\n",
              "[498 rows x 2 columns]"
            ],
            "text/html": [
              "\n",
              "  <div id=\"df-1cd9c115-5fbd-4c92-947c-08ab74ac4627\">\n",
              "    <div class=\"colab-df-container\">\n",
              "      <div>\n",
              "<style scoped>\n",
              "    .dataframe tbody tr th:only-of-type {\n",
              "        vertical-align: middle;\n",
              "    }\n",
              "\n",
              "    .dataframe tbody tr th {\n",
              "        vertical-align: top;\n",
              "    }\n",
              "\n",
              "    .dataframe thead th {\n",
              "        text-align: right;\n",
              "    }\n",
              "</style>\n",
              "<table border=\"1\" class=\"dataframe\">\n",
              "  <thead>\n",
              "    <tr style=\"text-align: right;\">\n",
              "      <th></th>\n",
              "      <th>campusSetting</th>\n",
              "      <th>medianBaseSalary</th>\n",
              "    </tr>\n",
              "  </thead>\n",
              "  <tbody>\n",
              "    <tr>\n",
              "      <th>0</th>\n",
              "      <td>Urban</td>\n",
              "      <td>173700.0</td>\n",
              "    </tr>\n",
              "    <tr>\n",
              "      <th>1</th>\n",
              "      <td>Suburban</td>\n",
              "      <td>173500.0</td>\n",
              "    </tr>\n",
              "    <tr>\n",
              "      <th>2</th>\n",
              "      <td>Urban</td>\n",
              "      <td>154500.0</td>\n",
              "    </tr>\n",
              "    <tr>\n",
              "      <th>3</th>\n",
              "      <td>Urban</td>\n",
              "      <td>167600.0</td>\n",
              "    </tr>\n",
              "    <tr>\n",
              "      <th>4</th>\n",
              "      <td>Urban</td>\n",
              "      <td>148800.0</td>\n",
              "    </tr>\n",
              "    <tr>\n",
              "      <th>...</th>\n",
              "      <td>...</td>\n",
              "      <td>...</td>\n",
              "    </tr>\n",
              "    <tr>\n",
              "      <th>493</th>\n",
              "      <td>Urban</td>\n",
              "      <td>100900.0</td>\n",
              "    </tr>\n",
              "    <tr>\n",
              "      <th>494</th>\n",
              "      <td>Urban</td>\n",
              "      <td>109800.0</td>\n",
              "    </tr>\n",
              "    <tr>\n",
              "      <th>495</th>\n",
              "      <td>Urban</td>\n",
              "      <td>119900.0</td>\n",
              "    </tr>\n",
              "    <tr>\n",
              "      <th>496</th>\n",
              "      <td>Urban</td>\n",
              "      <td>102100.0</td>\n",
              "    </tr>\n",
              "    <tr>\n",
              "      <th>497</th>\n",
              "      <td>Urban</td>\n",
              "      <td>90700.0</td>\n",
              "    </tr>\n",
              "  </tbody>\n",
              "</table>\n",
              "<p>498 rows × 2 columns</p>\n",
              "</div>\n",
              "      <button class=\"colab-df-convert\" onclick=\"convertToInteractive('df-1cd9c115-5fbd-4c92-947c-08ab74ac4627')\"\n",
              "              title=\"Convert this dataframe to an interactive table.\"\n",
              "              style=\"display:none;\">\n",
              "        \n",
              "  <svg xmlns=\"http://www.w3.org/2000/svg\" height=\"24px\"viewBox=\"0 0 24 24\"\n",
              "       width=\"24px\">\n",
              "    <path d=\"M0 0h24v24H0V0z\" fill=\"none\"/>\n",
              "    <path d=\"M18.56 5.44l.94 2.06.94-2.06 2.06-.94-2.06-.94-.94-2.06-.94 2.06-2.06.94zm-11 1L8.5 8.5l.94-2.06 2.06-.94-2.06-.94L8.5 2.5l-.94 2.06-2.06.94zm10 10l.94 2.06.94-2.06 2.06-.94-2.06-.94-.94-2.06-.94 2.06-2.06.94z\"/><path d=\"M17.41 7.96l-1.37-1.37c-.4-.4-.92-.59-1.43-.59-.52 0-1.04.2-1.43.59L10.3 9.45l-7.72 7.72c-.78.78-.78 2.05 0 2.83L4 21.41c.39.39.9.59 1.41.59.51 0 1.02-.2 1.41-.59l7.78-7.78 2.81-2.81c.8-.78.8-2.07 0-2.86zM5.41 20L4 18.59l7.72-7.72 1.47 1.35L5.41 20z\"/>\n",
              "  </svg>\n",
              "      </button>\n",
              "      \n",
              "  <style>\n",
              "    .colab-df-container {\n",
              "      display:flex;\n",
              "      flex-wrap:wrap;\n",
              "      gap: 12px;\n",
              "    }\n",
              "\n",
              "    .colab-df-convert {\n",
              "      background-color: #E8F0FE;\n",
              "      border: none;\n",
              "      border-radius: 50%;\n",
              "      cursor: pointer;\n",
              "      display: none;\n",
              "      fill: #1967D2;\n",
              "      height: 32px;\n",
              "      padding: 0 0 0 0;\n",
              "      width: 32px;\n",
              "    }\n",
              "\n",
              "    .colab-df-convert:hover {\n",
              "      background-color: #E2EBFA;\n",
              "      box-shadow: 0px 1px 2px rgba(60, 64, 67, 0.3), 0px 1px 3px 1px rgba(60, 64, 67, 0.15);\n",
              "      fill: #174EA6;\n",
              "    }\n",
              "\n",
              "    [theme=dark] .colab-df-convert {\n",
              "      background-color: #3B4455;\n",
              "      fill: #D2E3FC;\n",
              "    }\n",
              "\n",
              "    [theme=dark] .colab-df-convert:hover {\n",
              "      background-color: #434B5C;\n",
              "      box-shadow: 0px 1px 3px 1px rgba(0, 0, 0, 0.15);\n",
              "      filter: drop-shadow(0px 1px 2px rgba(0, 0, 0, 0.3));\n",
              "      fill: #FFFFFF;\n",
              "    }\n",
              "  </style>\n",
              "\n",
              "      <script>\n",
              "        const buttonEl =\n",
              "          document.querySelector('#df-1cd9c115-5fbd-4c92-947c-08ab74ac4627 button.colab-df-convert');\n",
              "        buttonEl.style.display =\n",
              "          google.colab.kernel.accessAllowed ? 'block' : 'none';\n",
              "\n",
              "        async function convertToInteractive(key) {\n",
              "          const element = document.querySelector('#df-1cd9c115-5fbd-4c92-947c-08ab74ac4627');\n",
              "          const dataTable =\n",
              "            await google.colab.kernel.invokeFunction('convertToInteractive',\n",
              "                                                     [key], {});\n",
              "          if (!dataTable) return;\n",
              "\n",
              "          const docLinkHtml = 'Like what you see? Visit the ' +\n",
              "            '<a target=\"_blank\" href=https://colab.research.google.com/notebooks/data_table.ipynb>data table notebook</a>'\n",
              "            + ' to learn more about interactive tables.';\n",
              "          element.innerHTML = '';\n",
              "          dataTable['output_type'] = 'display_data';\n",
              "          await google.colab.output.renderOutput(dataTable, element);\n",
              "          const docLink = document.createElement('div');\n",
              "          docLink.innerHTML = docLinkHtml;\n",
              "          element.appendChild(docLink);\n",
              "        }\n",
              "      </script>\n",
              "    </div>\n",
              "  </div>\n",
              "  "
            ]
          },
          "metadata": {},
          "execution_count": 28
        }
      ],
      "source": [
        "df.loc[:, [\"campusSetting\", \"medianBaseSalary\"]]"
      ]
    },
    {
      "cell_type": "markdown",
      "id": "252d40bc",
      "metadata": {
        "id": "252d40bc"
      },
      "source": [
        "Print out the number of colleges by state. Your results should look something like:\n",
        "\n",
        "NY    63<br>\n",
        "CA    55\n",
        "\n",
        "etc."
      ]
    },
    {
      "cell_type": "code",
      "execution_count": 29,
      "id": "15722a8b",
      "metadata": {
        "id": "15722a8b",
        "outputId": "81867321-3ca7-4e4d-f437-f7464cd739fc",
        "colab": {
          "base_uri": "https://localhost:8080/"
        }
      },
      "outputs": [
        {
          "output_type": "execute_result",
          "data": {
            "text/plain": [
              "NY    63\n",
              "CA    55\n",
              "PA    33\n",
              "MA    27\n",
              "TX    26\n",
              "NJ    16\n",
              "IL    16\n",
              "MI    15\n",
              "OH    15\n",
              "VA    14\n",
              "FL    14\n",
              "WA    13\n",
              "IN    12\n",
              "MN    12\n",
              "MD    12\n",
              "NC    11\n",
              "GA     9\n",
              "OR     9\n",
              "TN     9\n",
              "CT     8\n",
              "MO     8\n",
              "WI     8\n",
              "CO     7\n",
              "SC     6\n",
              "AL     5\n",
              "RI     5\n",
              "DC     5\n",
              "IA     5\n",
              "UT     4\n",
              "LA     4\n",
              "AZ     4\n",
              "VT     4\n",
              "ME     4\n",
              "NH     4\n",
              "KY     4\n",
              "OK     3\n",
              "ID     3\n",
              "NE     3\n",
              "NM     3\n",
              "MS     2\n",
              "MT     2\n",
              "ND     2\n",
              "SD     2\n",
              "HI     2\n",
              "AR     2\n",
              "NV     2\n",
              "KS     2\n",
              "PR     1\n",
              "WV     1\n",
              "WY     1\n",
              "DE     1\n",
              "Name: state, dtype: int64"
            ]
          },
          "metadata": {},
          "execution_count": 29
        }
      ],
      "source": [
        "df[\"state\"].value_counts()"
      ]
    },
    {
      "cell_type": "markdown",
      "id": "69a3b693",
      "metadata": {
        "id": "69a3b693"
      },
      "source": [
        "Display just the line for University of Maryland. (There are a couple of ways of doing this.)"
      ]
    },
    {
      "cell_type": "code",
      "execution_count": 31,
      "id": "cd19e2d4",
      "metadata": {
        "id": "cd19e2d4",
        "outputId": "8b34faa1-d6b3-4f59-fe95-9de6878a4c89",
        "colab": {
          "base_uri": "https://localhost:8080/",
          "height": 243
        }
      },
      "outputs": [
        {
          "output_type": "execute_result",
          "data": {
            "text/plain": [
              "                                          description  rank  \\\n",
              "39  The University of Maryland, College Park, is a...    40   \n",
              "\n",
              "                        organizationName state  studentPopulation  \\\n",
              "39  University of Maryland, College Park    MD              44404   \n",
              "\n",
              "   campusSetting  medianBaseSalary  longitude   latitude             website  \\\n",
              "39      Suburban          124500.0 -76.937269  38.980725  http://www.umd.edu   \n",
              "\n",
              "    ... yearFounded stateCode collegeType  \\\n",
              "39  ...      1858.0        MD      Public   \n",
              "\n",
              "                               carnegieClassification studentFacultyRatio  \\\n",
              "39  Doctoral Universities: Very High Research Acti...                  17   \n",
              "\n",
              "    totalStudentPop undergradPop totalGrantAid percentOfStudentsFinAid  \\\n",
              "39            44404        32954    28679244.0                    67.0   \n",
              "\n",
              "    percentOfStudentsGrant  \n",
              "39                    53.0  \n",
              "\n",
              "[1 rows x 25 columns]"
            ],
            "text/html": [
              "\n",
              "  <div id=\"df-0221c2b2-845f-435b-8919-14541eda1b17\">\n",
              "    <div class=\"colab-df-container\">\n",
              "      <div>\n",
              "<style scoped>\n",
              "    .dataframe tbody tr th:only-of-type {\n",
              "        vertical-align: middle;\n",
              "    }\n",
              "\n",
              "    .dataframe tbody tr th {\n",
              "        vertical-align: top;\n",
              "    }\n",
              "\n",
              "    .dataframe thead th {\n",
              "        text-align: right;\n",
              "    }\n",
              "</style>\n",
              "<table border=\"1\" class=\"dataframe\">\n",
              "  <thead>\n",
              "    <tr style=\"text-align: right;\">\n",
              "      <th></th>\n",
              "      <th>description</th>\n",
              "      <th>rank</th>\n",
              "      <th>organizationName</th>\n",
              "      <th>state</th>\n",
              "      <th>studentPopulation</th>\n",
              "      <th>campusSetting</th>\n",
              "      <th>medianBaseSalary</th>\n",
              "      <th>longitude</th>\n",
              "      <th>latitude</th>\n",
              "      <th>website</th>\n",
              "      <th>...</th>\n",
              "      <th>yearFounded</th>\n",
              "      <th>stateCode</th>\n",
              "      <th>collegeType</th>\n",
              "      <th>carnegieClassification</th>\n",
              "      <th>studentFacultyRatio</th>\n",
              "      <th>totalStudentPop</th>\n",
              "      <th>undergradPop</th>\n",
              "      <th>totalGrantAid</th>\n",
              "      <th>percentOfStudentsFinAid</th>\n",
              "      <th>percentOfStudentsGrant</th>\n",
              "    </tr>\n",
              "  </thead>\n",
              "  <tbody>\n",
              "    <tr>\n",
              "      <th>39</th>\n",
              "      <td>The University of Maryland, College Park, is a...</td>\n",
              "      <td>40</td>\n",
              "      <td>University of Maryland, College Park</td>\n",
              "      <td>MD</td>\n",
              "      <td>44404</td>\n",
              "      <td>Suburban</td>\n",
              "      <td>124500.0</td>\n",
              "      <td>-76.937269</td>\n",
              "      <td>38.980725</td>\n",
              "      <td>http://www.umd.edu</td>\n",
              "      <td>...</td>\n",
              "      <td>1858.0</td>\n",
              "      <td>MD</td>\n",
              "      <td>Public</td>\n",
              "      <td>Doctoral Universities: Very High Research Acti...</td>\n",
              "      <td>17</td>\n",
              "      <td>44404</td>\n",
              "      <td>32954</td>\n",
              "      <td>28679244.0</td>\n",
              "      <td>67.0</td>\n",
              "      <td>53.0</td>\n",
              "    </tr>\n",
              "  </tbody>\n",
              "</table>\n",
              "<p>1 rows × 25 columns</p>\n",
              "</div>\n",
              "      <button class=\"colab-df-convert\" onclick=\"convertToInteractive('df-0221c2b2-845f-435b-8919-14541eda1b17')\"\n",
              "              title=\"Convert this dataframe to an interactive table.\"\n",
              "              style=\"display:none;\">\n",
              "        \n",
              "  <svg xmlns=\"http://www.w3.org/2000/svg\" height=\"24px\"viewBox=\"0 0 24 24\"\n",
              "       width=\"24px\">\n",
              "    <path d=\"M0 0h24v24H0V0z\" fill=\"none\"/>\n",
              "    <path d=\"M18.56 5.44l.94 2.06.94-2.06 2.06-.94-2.06-.94-.94-2.06-.94 2.06-2.06.94zm-11 1L8.5 8.5l.94-2.06 2.06-.94-2.06-.94L8.5 2.5l-.94 2.06-2.06.94zm10 10l.94 2.06.94-2.06 2.06-.94-2.06-.94-.94-2.06-.94 2.06-2.06.94z\"/><path d=\"M17.41 7.96l-1.37-1.37c-.4-.4-.92-.59-1.43-.59-.52 0-1.04.2-1.43.59L10.3 9.45l-7.72 7.72c-.78.78-.78 2.05 0 2.83L4 21.41c.39.39.9.59 1.41.59.51 0 1.02-.2 1.41-.59l7.78-7.78 2.81-2.81c.8-.78.8-2.07 0-2.86zM5.41 20L4 18.59l7.72-7.72 1.47 1.35L5.41 20z\"/>\n",
              "  </svg>\n",
              "      </button>\n",
              "      \n",
              "  <style>\n",
              "    .colab-df-container {\n",
              "      display:flex;\n",
              "      flex-wrap:wrap;\n",
              "      gap: 12px;\n",
              "    }\n",
              "\n",
              "    .colab-df-convert {\n",
              "      background-color: #E8F0FE;\n",
              "      border: none;\n",
              "      border-radius: 50%;\n",
              "      cursor: pointer;\n",
              "      display: none;\n",
              "      fill: #1967D2;\n",
              "      height: 32px;\n",
              "      padding: 0 0 0 0;\n",
              "      width: 32px;\n",
              "    }\n",
              "\n",
              "    .colab-df-convert:hover {\n",
              "      background-color: #E2EBFA;\n",
              "      box-shadow: 0px 1px 2px rgba(60, 64, 67, 0.3), 0px 1px 3px 1px rgba(60, 64, 67, 0.15);\n",
              "      fill: #174EA6;\n",
              "    }\n",
              "\n",
              "    [theme=dark] .colab-df-convert {\n",
              "      background-color: #3B4455;\n",
              "      fill: #D2E3FC;\n",
              "    }\n",
              "\n",
              "    [theme=dark] .colab-df-convert:hover {\n",
              "      background-color: #434B5C;\n",
              "      box-shadow: 0px 1px 3px 1px rgba(0, 0, 0, 0.15);\n",
              "      filter: drop-shadow(0px 1px 2px rgba(0, 0, 0, 0.3));\n",
              "      fill: #FFFFFF;\n",
              "    }\n",
              "  </style>\n",
              "\n",
              "      <script>\n",
              "        const buttonEl =\n",
              "          document.querySelector('#df-0221c2b2-845f-435b-8919-14541eda1b17 button.colab-df-convert');\n",
              "        buttonEl.style.display =\n",
              "          google.colab.kernel.accessAllowed ? 'block' : 'none';\n",
              "\n",
              "        async function convertToInteractive(key) {\n",
              "          const element = document.querySelector('#df-0221c2b2-845f-435b-8919-14541eda1b17');\n",
              "          const dataTable =\n",
              "            await google.colab.kernel.invokeFunction('convertToInteractive',\n",
              "                                                     [key], {});\n",
              "          if (!dataTable) return;\n",
              "\n",
              "          const docLinkHtml = 'Like what you see? Visit the ' +\n",
              "            '<a target=\"_blank\" href=https://colab.research.google.com/notebooks/data_table.ipynb>data table notebook</a>'\n",
              "            + ' to learn more about interactive tables.';\n",
              "          element.innerHTML = '';\n",
              "          dataTable['output_type'] = 'display_data';\n",
              "          await google.colab.output.renderOutput(dataTable, element);\n",
              "          const docLink = document.createElement('div');\n",
              "          docLink.innerHTML = docLinkHtml;\n",
              "          element.appendChild(docLink);\n",
              "        }\n",
              "      </script>\n",
              "    </div>\n",
              "  </div>\n",
              "  "
            ]
          },
          "metadata": {},
          "execution_count": 31
        }
      ],
      "source": [
        "df[df[\"organizationName\"] == \"University of Maryland, College Park\"]"
      ]
    },
    {
      "cell_type": "markdown",
      "id": "06ff483c",
      "metadata": {
        "id": "06ff483c"
      },
      "source": [
        "## Modifications\n",
        "\n",
        "Let's start modifying our dataframe! Remember, dataframe operations return a copy by default, so you'll either need to use the inplace=True, or just assign the dataframe back into itself (as in, df = df.someFunction()).\n",
        "\n",
        "Start by filling in all blank phone numbers with \"no number\"\n",
        "\n"
      ]
    },
    {
      "cell_type": "code",
      "execution_count": 50,
      "id": "540dc6df",
      "metadata": {
        "id": "540dc6df",
        "outputId": "e53daff9-23a7-45cc-a962-9479a62723c1",
        "colab": {
          "base_uri": "https://localhost:8080/"
        }
      },
      "outputs": [
        {
          "output_type": "execute_result",
          "data": {
            "text/plain": [
              "0        617-253-1000\n",
              "1        650-723-2091\n",
              "2      (510) 642-6000\n",
              "3        609-258-3000\n",
              "4        212-854-1754\n",
              "            ...      \n",
              "493    (631) 687-5100\n",
              "494      610-861-1320\n",
              "495         no number\n",
              "496         no number\n",
              "497    (901) 678-2000\n",
              "Name: phoneNumber, Length: 498, dtype: object"
            ]
          },
          "metadata": {},
          "execution_count": 50
        }
      ],
      "source": [
        "df[\"phoneNumber\"] = df[\"phoneNumber\"].fillna(\"no number\")\n",
        "df[\"phoneNumber\"]"
      ]
    },
    {
      "cell_type": "markdown",
      "id": "49617e69",
      "metadata": {
        "id": "49617e69"
      },
      "source": [
        "Take the website column and change it so that no string includes \"http://\" or \"www\""
      ]
    },
    {
      "cell_type": "code",
      "execution_count": 53,
      "id": "048dbc60",
      "metadata": {
        "id": "048dbc60",
        "outputId": "5280706c-8d2e-495e-f7dd-16eedd06018e",
        "colab": {
          "base_uri": "https://localhost:8080/"
        }
      },
      "outputs": [
        {
          "output_type": "execute_result",
          "data": {
            "text/plain": [
              "0           web.mit.edu\n",
              "1         .stanford.edu\n",
              "2         .berkeley.edu\n",
              "3        .princeton.edu\n",
              "4         .columbia.edu\n",
              "             ...       \n",
              "493          .sjcny.edu\n",
              "494       .moravian.edu\n",
              "495    https://.ltu.edu\n",
              "496                 NaN\n",
              "497         .mephis.edu\n",
              "Name: website, Length: 498, dtype: object"
            ]
          },
          "metadata": {},
          "execution_count": 53
        }
      ],
      "source": [
        "df[\"website\"] = df[\"website\"].str.replace('http://', '')\n",
        "df[\"website\"] = df[\"website\"].str.replace('www', '')\n",
        "df[\"website\"]"
      ]
    },
    {
      "cell_type": "markdown",
      "id": "c6e96e8a",
      "metadata": {
        "id": "c6e96e8a"
      },
      "source": [
        "Create a new column called \"faculty\" that computes the number of faculty at each university"
      ]
    },
    {
      "cell_type": "code",
      "execution_count": 62,
      "id": "e41932a0",
      "metadata": {
        "id": "e41932a0",
        "outputId": "09193bba-3ed1-4a98-e8e1-bf0b7947386c",
        "colab": {
          "base_uri": "https://localhost:8080/"
        }
      },
      "outputs": [
        {
          "output_type": "execute_result",
          "data": {
            "text/plain": [
              "0       36585\n",
              "1       83844\n",
              "2      871682\n",
              "3       34128\n",
              "4      203292\n",
              "        ...  \n",
              "493     70812\n",
              "494     32571\n",
              "495     34793\n",
              "496     23760\n",
              "497    402048\n",
              "Name: faculty, Length: 498, dtype: int64"
            ]
          },
          "metadata": {},
          "execution_count": 62
        }
      ],
      "source": [
        "df[\"faculty\"] = df[\"studentPopulation\"] * df[\"studentFacultyRatio\"]\n",
        "df[\"faculty\"]"
      ]
    },
    {
      "cell_type": "markdown",
      "id": "f8393843",
      "metadata": {
        "id": "f8393843"
      },
      "source": [
        "## Graphs"
      ]
    },
    {
      "cell_type": "markdown",
      "id": "abaaffeb",
      "metadata": {
        "id": "abaaffeb"
      },
      "source": [
        "Let's do some very basic graphing here! Create a histogram for the student population."
      ]
    },
    {
      "cell_type": "code",
      "execution_count": 64,
      "id": "bb634d11",
      "metadata": {
        "id": "bb634d11",
        "outputId": "2ab2226b-44f8-4e47-f119-fc70273fbd8d",
        "colab": {
          "base_uri": "https://localhost:8080/",
          "height": 282
        }
      },
      "outputs": [
        {
          "output_type": "execute_result",
          "data": {
            "text/plain": [
              "<AxesSubplot:>"
            ]
          },
          "metadata": {},
          "execution_count": 64
        },
        {
          "output_type": "display_data",
          "data": {
            "text/plain": [
              "<Figure size 432x288 with 1 Axes>"
            ],
            "image/png": "[encoded data removed]"
          },
          "metadata": {
            "needs_background": "light"
          }
        }
      ],
      "source": [
        "df[\"studentPopulation\"].hist()"
      ]
    }
  ],
  "metadata": {
    "kernelspec": {
      "display_name": "Python 3 (ipykernel)",
      "language": "python",
      "name": "python3"
    },
    "language_info": {
      "codemirror_mode": {
        "name": "ipython",
        "version": 3
      },
      "file_extension": ".py",
      "mimetype": "text/x-python",
      "name": "python",
      "nbconvert_exporter": "python",
      "pygments_lexer": "ipython3",
      "version": "3.9.13"
    },
    "colab": {
      "provenance": [],
      "include_colab_link": true
    }
  },
  "nbformat": 4,
  "nbformat_minor": 5
}